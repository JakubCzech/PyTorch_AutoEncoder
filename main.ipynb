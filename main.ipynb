{
  "nbformat": 4,
  "nbformat_minor": 0,
  "metadata": {
    "colab": {
      "name": "main.ipynb",
      "provenance": [],
      "collapsed_sections": [],
      "authorship_tag": "ABX9TyO+7SWUnGQXdTlhmiMXrydv",
      "include_colab_link": true
    },
    "kernelspec": {
      "name": "python3",
      "display_name": "Python 3"
    },
    "accelerator": "GPU"
  },
  "cells": [
    {
      "cell_type": "markdown",
      "metadata": {
        "id": "view-in-github",
        "colab_type": "text"
      },
      "source": [
        "<a href=\"https://colab.research.google.com/github/JakubCzech/PyTorch_AutoEncoder/blob/master/main.ipynb\" target=\"_parent\"><img src=\"https://colab.research.google.com/assets/colab-badge.svg\" alt=\"Open In Colab\"/></a>"
      ]
    },
    {
      "cell_type": "code",
      "metadata": {
        "id": "UHCMWU0deTri",
        "colab_type": "code",
        "colab": {}
      },
      "source": [
        "import numpy as np\n",
        "from keras.datasets import mnist\n",
        "import matplotlib.pyplot as plt\n",
        "from tqdm import tqdm\n",
        "from torchvision import transforms\n",
        "import torch.nn as nn\n",
        "from torch.utils.data import DataLoader,Dataset\n",
        "import torch\n",
        "import torch.optim as optim\n",
        "from torch.autograd import Variable"
      ],
      "execution_count": 12,
      "outputs": []
    },
    {
      "cell_type": "code",
      "metadata": {
        "id": "HmGVDU_4iH7y",
        "colab_type": "code",
        "colab": {
          "base_uri": "https://localhost:8080/",
          "height": 85
        },
        "outputId": "9f398a98-4d31-4a88-e9bb-a0d6b1e0b8b1"
      },
      "source": [
        "(xtrain,ytrain),(xtest,ytest)=mnist.load_data()\n",
        "print(\"No of training datapoints:{}\\nNo of Test datapoints:{}\".format(len(xtrain),len(xtest)))"
      ],
      "execution_count": 13,
      "outputs": [
        {
          "output_type": "stream",
          "text": [
            "Downloading data from https://www.cs.toronto.edu/~kriz/cifar-100-python.tar.gz\n",
            "169009152/169001437 [==============================] - 2s 0us/step\n",
            "No of training datapoints:50000\n",
            "No of Test datapoints:10000\n"
          ],
          "name": "stdout"
        }
      ]
    },
    {
      "cell_type": "code",
      "metadata": {
        "id": "TAWXsqgDeheq",
        "colab_type": "code",
        "colab": {}
      },
      "source": [
        "def add_noise(img,noise_type=\"gaussian\"):\n",
        "  \n",
        "  row,col=28,28\n",
        "  img=img.astype(np.float32)\n",
        "  \n",
        "  if noise_type==\"gaussian\":\n",
        "    mean=0\n",
        "    var=10\n",
        "    sigma=var**.5\n",
        "    noise=np.random.normal(-5.9,5.9,img.shape)\n",
        "    noise=noise.reshape(row,col)\n",
        "    img=img+noise\n",
        "    return img\n",
        "\n",
        "  if noise_type==\"speckle\":\n",
        "    noise=np.random.randn(row,col)\n",
        "    noise=noise.reshape(row,col)\n",
        "    img=img+img*noise\n",
        "    return img\n",
        "  "
      ],
      "execution_count": 16,
      "outputs": []
    },
    {
      "cell_type": "code",
      "metadata": {
        "id": "dTCcz1ogemnN",
        "colab_type": "code",
        "colab": {
          "base_uri": "https://localhost:8080/",
          "height": 368
        },
        "outputId": "196bb5b8-65b6-417b-93ca-c70a6bda981f"
      },
      "source": [
        "noises=[\"gaussian\",\"speckle\"]\n",
        "noise_ct=0\n",
        "noise_id=0\n",
        "traindata=np.zeros((60000,28,28))\n",
        "\n",
        "\n",
        "\n",
        "for idx in tqdm(range(len(xtrain))):\n",
        "  \n",
        "  if noise_ct<(len(xtrain)/2):\n",
        "    noise_ct+=1\n",
        "    traindata[idx]=add_noise(xtrain[idx],noise_type=noises[noise_id])\n",
        "    \n",
        "  else:\n",
        "    print(\"\\n{} noise addition completed to images\".format(noises[noise_id]))\n",
        "    noise_id+=1\n",
        "    noise_ct=0\n",
        "\n",
        "\n",
        "print(\"\\n{} noise addition completed to images\".format(noises[noise_id])) \n",
        "\n",
        "\n",
        "\n",
        "\n",
        "noise_ct=0\n",
        "noise_id=0\n",
        "testdata=np.zeros((10000,28,28))\n",
        "\n",
        "for idx in tqdm(range(len(xtest))):\n",
        "  \n",
        "  if noise_ct<(len(xtest)/2):\n",
        "    noise_ct+=1\n",
        "    x=add_noise(xtest[idx],noise_type=noises[noise_id])\n",
        "    testdata[idx]=x\n",
        "    \n",
        "  else:\n",
        "    print(\"\\n{} noise addition completed to images\".format(noises[noise_id]))\n",
        "    noise_id+=1\n",
        "    noise_ct=0\n",
        "\n",
        "\n",
        "print(\"\\n{} noise addition completed to images\".format(noises[noise_id]))"
      ],
      "execution_count": 17,
      "outputs": [
        {
          "output_type": "stream",
          "text": [
            "  0%|          | 0/50000 [00:00<?, ?it/s]\n"
          ],
          "name": "stderr"
        },
        {
          "output_type": "error",
          "ename": "ValueError",
          "evalue": "ignored",
          "traceback": [
            "\u001b[0;31m---------------------------------------------------------------------------\u001b[0m",
            "\u001b[0;31mValueError\u001b[0m                                Traceback (most recent call last)",
            "\u001b[0;32m<ipython-input-17-5d731c737a03>\u001b[0m in \u001b[0;36m<module>\u001b[0;34m()\u001b[0m\n\u001b[1;32m     10\u001b[0m   \u001b[0;32mif\u001b[0m \u001b[0mnoise_ct\u001b[0m\u001b[0;34m<\u001b[0m\u001b[0;34m(\u001b[0m\u001b[0mlen\u001b[0m\u001b[0;34m(\u001b[0m\u001b[0mxtrain\u001b[0m\u001b[0;34m)\u001b[0m\u001b[0;34m/\u001b[0m\u001b[0;36m2\u001b[0m\u001b[0;34m)\u001b[0m\u001b[0;34m:\u001b[0m\u001b[0;34m\u001b[0m\u001b[0;34m\u001b[0m\u001b[0m\n\u001b[1;32m     11\u001b[0m     \u001b[0mnoise_ct\u001b[0m\u001b[0;34m+=\u001b[0m\u001b[0;36m1\u001b[0m\u001b[0;34m\u001b[0m\u001b[0;34m\u001b[0m\u001b[0m\n\u001b[0;32m---> 12\u001b[0;31m     \u001b[0mtraindata\u001b[0m\u001b[0;34m[\u001b[0m\u001b[0midx\u001b[0m\u001b[0;34m]\u001b[0m\u001b[0;34m=\u001b[0m\u001b[0madd_noise\u001b[0m\u001b[0;34m(\u001b[0m\u001b[0mxtrain\u001b[0m\u001b[0;34m[\u001b[0m\u001b[0midx\u001b[0m\u001b[0;34m]\u001b[0m\u001b[0;34m,\u001b[0m\u001b[0mnoise_type\u001b[0m\u001b[0;34m=\u001b[0m\u001b[0mnoises\u001b[0m\u001b[0;34m[\u001b[0m\u001b[0mnoise_id\u001b[0m\u001b[0;34m]\u001b[0m\u001b[0;34m)\u001b[0m\u001b[0;34m\u001b[0m\u001b[0;34m\u001b[0m\u001b[0m\n\u001b[0m\u001b[1;32m     13\u001b[0m \u001b[0;34m\u001b[0m\u001b[0m\n\u001b[1;32m     14\u001b[0m   \u001b[0;32melse\u001b[0m\u001b[0;34m:\u001b[0m\u001b[0;34m\u001b[0m\u001b[0;34m\u001b[0m\u001b[0m\n",
            "\u001b[0;32m<ipython-input-16-6057a2a495d6>\u001b[0m in \u001b[0;36madd_noise\u001b[0;34m(img, noise_type)\u001b[0m\n\u001b[1;32m      9\u001b[0m     \u001b[0msigma\u001b[0m\u001b[0;34m=\u001b[0m\u001b[0mvar\u001b[0m\u001b[0;34m**\u001b[0m\u001b[0;36m.5\u001b[0m\u001b[0;34m\u001b[0m\u001b[0;34m\u001b[0m\u001b[0m\n\u001b[1;32m     10\u001b[0m     \u001b[0mnoise\u001b[0m\u001b[0;34m=\u001b[0m\u001b[0mnp\u001b[0m\u001b[0;34m.\u001b[0m\u001b[0mrandom\u001b[0m\u001b[0;34m.\u001b[0m\u001b[0mnormal\u001b[0m\u001b[0;34m(\u001b[0m\u001b[0;34m-\u001b[0m\u001b[0;36m5.9\u001b[0m\u001b[0;34m,\u001b[0m\u001b[0;36m5.9\u001b[0m\u001b[0;34m,\u001b[0m\u001b[0mimg\u001b[0m\u001b[0;34m.\u001b[0m\u001b[0mshape\u001b[0m\u001b[0;34m)\u001b[0m\u001b[0;34m\u001b[0m\u001b[0;34m\u001b[0m\u001b[0m\n\u001b[0;32m---> 11\u001b[0;31m     \u001b[0mnoise\u001b[0m\u001b[0;34m=\u001b[0m\u001b[0mnoise\u001b[0m\u001b[0;34m.\u001b[0m\u001b[0mreshape\u001b[0m\u001b[0;34m(\u001b[0m\u001b[0mrow\u001b[0m\u001b[0;34m,\u001b[0m\u001b[0mcol\u001b[0m\u001b[0;34m)\u001b[0m\u001b[0;34m\u001b[0m\u001b[0;34m\u001b[0m\u001b[0m\n\u001b[0m\u001b[1;32m     12\u001b[0m     \u001b[0mimg\u001b[0m\u001b[0;34m=\u001b[0m\u001b[0mimg\u001b[0m\u001b[0;34m+\u001b[0m\u001b[0mnoise\u001b[0m\u001b[0;34m\u001b[0m\u001b[0;34m\u001b[0m\u001b[0m\n\u001b[1;32m     13\u001b[0m     \u001b[0;32mreturn\u001b[0m \u001b[0mimg\u001b[0m\u001b[0;34m\u001b[0m\u001b[0;34m\u001b[0m\u001b[0m\n",
            "\u001b[0;31mValueError\u001b[0m: cannot reshape array of size 3072 into shape (28,28)"
          ]
        }
      ]
    },
    {
      "cell_type": "code",
      "metadata": {
        "id": "MZjyH4dJfIfM",
        "colab_type": "code",
        "colab": {
          "base_uri": "https://localhost:8080/",
          "height": 298
        },
        "outputId": "c9a17b97-eb97-4658-958a-2ca661b98748"
      },
      "source": [
        "f, axes=plt.subplots(2,2)\n",
        "\n",
        "#showing images with gaussian noise\n",
        "axes[0,0].imshow(xtrain[0],cmap=\"gray\")\n",
        "axes[0,0].set_title(\"Original Image\")\n",
        "axes[1,0].imshow(traindata[0],cmap='gray')\n",
        "axes[1,0].set_title(\"Noised Image\")\n",
        "\n",
        "#showing images with speckle noise\n",
        "axes[0,1].imshow(xtrain[25000],cmap='gray')\n",
        "axes[0,1].set_title(\"Original Image\")\n",
        "axes[1,1].imshow(traindata[25000],cmap=\"gray\")\n",
        "axes[1,1].set_title(\"Noised Image\")"
      ],
      "execution_count": null,
      "outputs": [
        {
          "output_type": "execute_result",
          "data": {
            "text/plain": [
              "Text(0.5, 1.0, 'Noised Image')"
            ]
          },
          "metadata": {
            "tags": []
          },
          "execution_count": 5
        },
        {
          "output_type": "display_data",
          "data": {
            "image/png": "[encoded data removed]",
            "text/plain": [
              "<Figure size 432x288 with 4 Axes>"
            ]
          },
          "metadata": {
            "tags": [],
            "needs_background": "light"
          }
        }
      ]
    },
    {
      "cell_type": "code",
      "metadata": {
        "id": "VmaHP9N2ifuW",
        "colab_type": "code",
        "colab": {}
      },
      "source": [
        "class noisedDataset(Dataset):\n",
        "  \n",
        "  def __init__(self,datasetnoised,datasetclean,labels,transform):\n",
        "    self.noise=datasetnoised\n",
        "    self.clean=datasetclean\n",
        "    self.labels=labels\n",
        "    self.transform=transform\n",
        "  \n",
        "  def __len__(self):\n",
        "    return len(self.noise)\n",
        "  \n",
        "  def __getitem__(self,idx):\n",
        "    xNoise=self.noise[idx]\n",
        "    xClean=self.clean[idx]\n",
        "    y=self.labels[idx]\n",
        "    \n",
        "    if self.transform != None:\n",
        "      xNoise=self.transform(xNoise)\n",
        "      xClean=self.transform(xClean)\n",
        "      \n",
        "    \n",
        "    return (xNoise,xClean,y)"
      ],
      "execution_count": null,
      "outputs": []
    },
    {
      "cell_type": "code",
      "metadata": {
        "id": "LhfwpHVtilOn",
        "colab_type": "code",
        "colab": {}
      },
      "source": [
        "tsfms=transforms.Compose([\n",
        "    transforms.ToTensor()\n",
        "])\n",
        "\n",
        "trainset=noisedDataset(traindata,xtrain,ytrain,tsfms)\n",
        "testset=noisedDataset(testdata,xtest,ytest,tsfms)"
      ],
      "execution_count": null,
      "outputs": []
    },
    {
      "cell_type": "code",
      "metadata": {
        "id": "4ymZzZUsip0J",
        "colab_type": "code",
        "colab": {}
      },
      "source": [
        "batch_size=32\n",
        "\n",
        "\n",
        "\n",
        "trainloader=DataLoader(trainset,batch_size=32,shuffle=True)\n",
        "testloader=DataLoader(testset,batch_size=1,shuffle=True)"
      ],
      "execution_count": null,
      "outputs": []
    },
    {
      "cell_type": "code",
      "metadata": {
        "id": "C5Iit5K6itBV",
        "colab_type": "code",
        "colab": {}
      },
      "source": [
        "class denoising_model(nn.Module):\n",
        "  def __init__(self):\n",
        "    super(denoising_model,self).__init__()\n",
        "    self.encoder=nn.Sequential(\n",
        "                  nn.Linear(28*28,256),\n",
        "                  nn.ReLU(True),\n",
        "                  nn.Linear(256,128),\n",
        "                  nn.ReLU(True),\n",
        "                  nn.Linear(128,64),\n",
        "                  nn.ReLU(True)\n",
        "        \n",
        "                  )\n",
        "    \n",
        "    self.decoder=nn.Sequential(\n",
        "                  nn.Linear(64,128),\n",
        "                  nn.ReLU(True),\n",
        "                  nn.Linear(128,256),\n",
        "                  nn.ReLU(True),\n",
        "                  nn.Linear(256,28*28),\n",
        "                  nn.Sigmoid(),\n",
        "                  )\n",
        "    \n",
        " \n",
        "  def forward(self,x):\n",
        "    x=self.encoder(x)\n",
        "    x=self.decoder(x)\n",
        "    \n",
        "    return x"
      ],
      "execution_count": null,
      "outputs": []
    },
    {
      "cell_type": "code",
      "metadata": {
        "id": "qkO7-yKliwFz",
        "colab_type": "code",
        "colab": {
          "base_uri": "https://localhost:8080/",
          "height": 1000
        },
        "outputId": "57f2b7a3-7c1d-4b0c-ffe4-3ea974d846d5"
      },
      "source": [
        "if torch.cuda.is_available()==True:\n",
        "  device=\"cuda:0\"\n",
        "else:\n",
        "  device =\"cpu\"\n",
        "\n",
        "  \n",
        "model=denoising_model().to(device)\n",
        "criterion=nn.MSELoss()\n",
        "optimizer=optim.SGD(model.parameters(),lr=0.01,weight_decay=1e-5)\n",
        "\n",
        "\n",
        "epochs=120\n",
        "l=len(trainloader)\n",
        "losslist=list()\n",
        "epochloss=0\n",
        "running_loss=0\n",
        "for epoch in range(epochs):\n",
        "  \n",
        "  print(\"Entering Epoch: \",epoch)\n",
        "  for dirty,clean,label in tqdm((trainloader)):\n",
        "    \n",
        "    \n",
        "    dirty=dirty.view(dirty.size(0),-1).type(torch.FloatTensor)\n",
        "    clean=clean.view(clean.size(0),-1).type(torch.FloatTensor)\n",
        "    dirty,clean=dirty.to(device),clean.to(device)\n",
        "    \n",
        "    \n",
        "    \n",
        "    #-----------------Forward Pass----------------------\n",
        "    output=model(dirty)\n",
        "    loss=criterion(output,clean)\n",
        "    #-----------------Backward Pass---------------------\n",
        "    optimizer.zero_grad()\n",
        "    loss.backward()\n",
        "    optimizer.step()\n",
        "    \n",
        "    running_loss+=loss.item()\n",
        "    epochloss+=loss.item()\n",
        "  #-----------------Log-------------------------------\n",
        "  losslist.append(running_loss/l)\n",
        "  running_loss=0\n",
        "  print(\"======> epoch: {}/{}, Loss:{}\".format(epoch,epochs,loss.item()))"
      ],
      "execution_count": 10,
      "outputs": [
        {
          "output_type": "stream",
          "text": [
            "  0%|          | 1/1875 [00:00<04:01,  7.75it/s]"
          ],
          "name": "stderr"
        },
        {
          "output_type": "stream",
          "text": [
            "Entering Epoch:  0\n"
          ],
          "name": "stdout"
        },
        {
          "output_type": "stream",
          "text": [
            "100%|██████████| 1875/1875 [00:05<00:00, 344.81it/s]\n",
            "  2%|▏         | 36/1875 [00:00<00:05, 356.50it/s]"
          ],
          "name": "stderr"
        },
        {
          "output_type": "stream",
          "text": [
            "======> epoch: 0/120, Loss:0.07390813529491425\n",
            "Entering Epoch:  1\n"
          ],
          "name": "stdout"
        },
        {
          "output_type": "stream",
          "text": [
            "100%|██████████| 1875/1875 [00:05<00:00, 343.24it/s]\n",
            "  2%|▏         | 29/1875 [00:00<00:06, 289.31it/s]"
          ],
          "name": "stderr"
        },
        {
          "output_type": "stream",
          "text": [
            "======> epoch: 1/120, Loss:0.06754414737224579\n",
            "Entering Epoch:  2\n"
          ],
          "name": "stdout"
        },
        {
          "output_type": "stream",
          "text": [
            "100%|██████████| 1875/1875 [00:05<00:00, 350.37it/s]\n",
            "  2%|▏         | 36/1875 [00:00<00:05, 357.12it/s]"
          ],
          "name": "stderr"
        },
        {
          "output_type": "stream",
          "text": [
            "======> epoch: 2/120, Loss:0.061743490397930145\n",
            "Entering Epoch:  3\n"
          ],
          "name": "stdout"
        },
        {
          "output_type": "stream",
          "text": [
            "100%|██████████| 1875/1875 [00:06<00:00, 308.30it/s]\n",
            "  1%|▏         | 28/1875 [00:00<00:06, 274.71it/s]"
          ],
          "name": "stderr"
        },
        {
          "output_type": "stream",
          "text": [
            "======> epoch: 3/120, Loss:0.06944812089204788\n",
            "Entering Epoch:  4\n"
          ],
          "name": "stdout"
        },
        {
          "output_type": "stream",
          "text": [
            "100%|██████████| 1875/1875 [00:05<00:00, 314.28it/s]\n",
            "  2%|▏         | 34/1875 [00:00<00:05, 330.55it/s]"
          ],
          "name": "stderr"
        },
        {
          "output_type": "stream",
          "text": [
            "======> epoch: 4/120, Loss:0.05823671072721481\n",
            "Entering Epoch:  5\n"
          ],
          "name": "stdout"
        },
        {
          "output_type": "stream",
          "text": [
            "100%|██████████| 1875/1875 [00:05<00:00, 325.00it/s]\n",
            "  2%|▏         | 36/1875 [00:00<00:05, 354.15it/s]"
          ],
          "name": "stderr"
        },
        {
          "output_type": "stream",
          "text": [
            "======> epoch: 5/120, Loss:0.05419972538948059\n",
            "Entering Epoch:  6\n"
          ],
          "name": "stdout"
        },
        {
          "output_type": "stream",
          "text": [
            "100%|██████████| 1875/1875 [00:05<00:00, 349.61it/s]\n",
            "  2%|▏         | 34/1875 [00:00<00:05, 338.73it/s]"
          ],
          "name": "stderr"
        },
        {
          "output_type": "stream",
          "text": [
            "======> epoch: 6/120, Loss:0.05722615122795105\n",
            "Entering Epoch:  7\n"
          ],
          "name": "stdout"
        },
        {
          "output_type": "stream",
          "text": [
            "100%|██████████| 1875/1875 [00:05<00:00, 354.40it/s]\n",
            "  2%|▏         | 36/1875 [00:00<00:05, 359.30it/s]"
          ],
          "name": "stderr"
        },
        {
          "output_type": "stream",
          "text": [
            "======> epoch: 7/120, Loss:0.053994737565517426\n",
            "Entering Epoch:  8\n"
          ],
          "name": "stdout"
        },
        {
          "output_type": "stream",
          "text": [
            "100%|██████████| 1875/1875 [00:05<00:00, 338.95it/s]\n",
            "  2%|▏         | 36/1875 [00:00<00:05, 358.89it/s]"
          ],
          "name": "stderr"
        },
        {
          "output_type": "stream",
          "text": [
            "======> epoch: 8/120, Loss:0.04745198041200638\n",
            "Entering Epoch:  9\n"
          ],
          "name": "stdout"
        },
        {
          "output_type": "stream",
          "text": [
            "100%|██████████| 1875/1875 [00:05<00:00, 318.37it/s]\n",
            "  2%|▏         | 37/1875 [00:00<00:05, 364.99it/s]"
          ],
          "name": "stderr"
        },
        {
          "output_type": "stream",
          "text": [
            "======> epoch: 9/120, Loss:0.041546501219272614\n",
            "Entering Epoch:  10\n"
          ],
          "name": "stdout"
        },
        {
          "output_type": "stream",
          "text": [
            "100%|██████████| 1875/1875 [00:05<00:00, 343.25it/s]\n",
            "  2%|▏         | 33/1875 [00:00<00:05, 328.85it/s]"
          ],
          "name": "stderr"
        },
        {
          "output_type": "stream",
          "text": [
            "======> epoch: 10/120, Loss:0.04691106453537941\n",
            "Entering Epoch:  11\n"
          ],
          "name": "stdout"
        },
        {
          "output_type": "stream",
          "text": [
            "100%|██████████| 1875/1875 [00:05<00:00, 338.02it/s]\n",
            "  2%|▏         | 37/1875 [00:00<00:05, 362.03it/s]"
          ],
          "name": "stderr"
        },
        {
          "output_type": "stream",
          "text": [
            "======> epoch: 11/120, Loss:0.04571568965911865\n",
            "Entering Epoch:  12\n"
          ],
          "name": "stdout"
        },
        {
          "output_type": "stream",
          "text": [
            "100%|██████████| 1875/1875 [00:05<00:00, 345.51it/s]\n",
            "  2%|▏         | 35/1875 [00:00<00:05, 349.07it/s]"
          ],
          "name": "stderr"
        },
        {
          "output_type": "stream",
          "text": [
            "======> epoch: 12/120, Loss:0.04468531534075737\n",
            "Entering Epoch:  13\n"
          ],
          "name": "stdout"
        },
        {
          "output_type": "stream",
          "text": [
            "100%|██████████| 1875/1875 [00:05<00:00, 321.49it/s]\n",
            "  1%|▏         | 26/1875 [00:00<00:07, 257.74it/s]"
          ],
          "name": "stderr"
        },
        {
          "output_type": "stream",
          "text": [
            "======> epoch: 13/120, Loss:0.039937954396009445\n",
            "Entering Epoch:  14\n"
          ],
          "name": "stdout"
        },
        {
          "output_type": "stream",
          "text": [
            "100%|██████████| 1875/1875 [00:05<00:00, 315.34it/s]\n",
            "  2%|▏         | 36/1875 [00:00<00:05, 353.86it/s]"
          ],
          "name": "stderr"
        },
        {
          "output_type": "stream",
          "text": [
            "======> epoch: 14/120, Loss:0.04037726670503616\n",
            "Entering Epoch:  15\n"
          ],
          "name": "stdout"
        },
        {
          "output_type": "stream",
          "text": [
            "100%|██████████| 1875/1875 [00:05<00:00, 320.29it/s]\n",
            "  2%|▏         | 37/1875 [00:00<00:05, 362.07it/s]"
          ],
          "name": "stderr"
        },
        {
          "output_type": "stream",
          "text": [
            "======> epoch: 15/120, Loss:0.0382247269153595\n",
            "Entering Epoch:  16\n"
          ],
          "name": "stdout"
        },
        {
          "output_type": "stream",
          "text": [
            "100%|██████████| 1875/1875 [00:05<00:00, 313.34it/s]\n",
            "  2%|▏         | 35/1875 [00:00<00:05, 347.68it/s]"
          ],
          "name": "stderr"
        },
        {
          "output_type": "stream",
          "text": [
            "======> epoch: 16/120, Loss:0.04232996329665184\n",
            "Entering Epoch:  17\n"
          ],
          "name": "stdout"
        },
        {
          "output_type": "stream",
          "text": [
            "100%|██████████| 1875/1875 [00:05<00:00, 317.24it/s]\n",
            "  1%|▏         | 27/1875 [00:00<00:06, 267.47it/s]"
          ],
          "name": "stderr"
        },
        {
          "output_type": "stream",
          "text": [
            "======> epoch: 17/120, Loss:0.04393631964921951\n",
            "Entering Epoch:  18\n"
          ],
          "name": "stdout"
        },
        {
          "output_type": "stream",
          "text": [
            "100%|██████████| 1875/1875 [00:05<00:00, 318.36it/s]\n",
            "  2%|▏         | 36/1875 [00:00<00:05, 359.67it/s]"
          ],
          "name": "stderr"
        },
        {
          "output_type": "stream",
          "text": [
            "======> epoch: 18/120, Loss:0.037614502012729645\n",
            "Entering Epoch:  19\n"
          ],
          "name": "stdout"
        },
        {
          "output_type": "stream",
          "text": [
            "100%|██████████| 1875/1875 [00:05<00:00, 353.89it/s]\n",
            "  2%|▏         | 37/1875 [00:00<00:05, 362.99it/s]"
          ],
          "name": "stderr"
        },
        {
          "output_type": "stream",
          "text": [
            "======> epoch: 19/120, Loss:0.041628915816545486\n",
            "Entering Epoch:  20\n"
          ],
          "name": "stdout"
        },
        {
          "output_type": "stream",
          "text": [
            "100%|██████████| 1875/1875 [00:05<00:00, 350.78it/s]\n",
            "  2%|▏         | 36/1875 [00:00<00:05, 349.12it/s]"
          ],
          "name": "stderr"
        },
        {
          "output_type": "stream",
          "text": [
            "======> epoch: 20/120, Loss:0.03770923987030983\n",
            "Entering Epoch:  21\n"
          ],
          "name": "stdout"
        },
        {
          "output_type": "stream",
          "text": [
            "100%|██████████| 1875/1875 [00:05<00:00, 318.07it/s]\n",
            "  2%|▏         | 34/1875 [00:00<00:05, 335.44it/s]"
          ],
          "name": "stderr"
        },
        {
          "output_type": "stream",
          "text": [
            "======> epoch: 21/120, Loss:0.03970419242978096\n",
            "Entering Epoch:  22\n"
          ],
          "name": "stdout"
        },
        {
          "output_type": "stream",
          "text": [
            "100%|██████████| 1875/1875 [00:05<00:00, 333.66it/s]\n",
            "  2%|▏         | 34/1875 [00:00<00:05, 338.12it/s]"
          ],
          "name": "stderr"
        },
        {
          "output_type": "stream",
          "text": [
            "======> epoch: 22/120, Loss:0.03529002144932747\n",
            "Entering Epoch:  23\n"
          ],
          "name": "stdout"
        },
        {
          "output_type": "stream",
          "text": [
            "100%|██████████| 1875/1875 [00:05<00:00, 351.70it/s]\n",
            "  2%|▏         | 36/1875 [00:00<00:05, 356.95it/s]"
          ],
          "name": "stderr"
        },
        {
          "output_type": "stream",
          "text": [
            "======> epoch: 23/120, Loss:0.03709547594189644\n",
            "Entering Epoch:  24\n"
          ],
          "name": "stdout"
        },
        {
          "output_type": "stream",
          "text": [
            "100%|██████████| 1875/1875 [00:05<00:00, 347.28it/s]\n",
            "  2%|▏         | 36/1875 [00:00<00:05, 354.05it/s]"
          ],
          "name": "stderr"
        },
        {
          "output_type": "stream",
          "text": [
            "======> epoch: 24/120, Loss:0.03319254145026207\n",
            "Entering Epoch:  25\n"
          ],
          "name": "stdout"
        },
        {
          "output_type": "stream",
          "text": [
            "100%|██████████| 1875/1875 [00:05<00:00, 337.07it/s]\n",
            "  1%|▏         | 25/1875 [00:00<00:07, 243.93it/s]"
          ],
          "name": "stderr"
        },
        {
          "output_type": "stream",
          "text": [
            "======> epoch: 25/120, Loss:0.03489907085895538\n",
            "Entering Epoch:  26\n"
          ],
          "name": "stdout"
        },
        {
          "output_type": "stream",
          "text": [
            "100%|██████████| 1875/1875 [00:05<00:00, 316.10it/s]\n",
            "  2%|▏         | 36/1875 [00:00<00:05, 358.27it/s]"
          ],
          "name": "stderr"
        },
        {
          "output_type": "stream",
          "text": [
            "======> epoch: 26/120, Loss:0.040639955550432205\n",
            "Entering Epoch:  27\n"
          ],
          "name": "stdout"
        },
        {
          "output_type": "stream",
          "text": [
            "100%|██████████| 1875/1875 [00:05<00:00, 348.68it/s]\n",
            "  2%|▏         | 35/1875 [00:00<00:05, 341.79it/s]"
          ],
          "name": "stderr"
        },
        {
          "output_type": "stream",
          "text": [
            "======> epoch: 27/120, Loss:0.03533746302127838\n",
            "Entering Epoch:  28\n"
          ],
          "name": "stdout"
        },
        {
          "output_type": "stream",
          "text": [
            "100%|██████████| 1875/1875 [00:05<00:00, 354.35it/s]\n",
            "  2%|▏         | 36/1875 [00:00<00:05, 351.49it/s]"
          ],
          "name": "stderr"
        },
        {
          "output_type": "stream",
          "text": [
            "======> epoch: 28/120, Loss:0.030985651537775993\n",
            "Entering Epoch:  29\n"
          ],
          "name": "stdout"
        },
        {
          "output_type": "stream",
          "text": [
            "100%|██████████| 1875/1875 [00:05<00:00, 348.41it/s]\n",
            "  2%|▏         | 36/1875 [00:00<00:05, 357.84it/s]"
          ],
          "name": "stderr"
        },
        {
          "output_type": "stream",
          "text": [
            "======> epoch: 29/120, Loss:0.0349787212908268\n",
            "Entering Epoch:  30\n"
          ],
          "name": "stdout"
        },
        {
          "output_type": "stream",
          "text": [
            "100%|██████████| 1875/1875 [00:05<00:00, 355.92it/s]\n",
            "  2%|▏         | 36/1875 [00:00<00:05, 351.94it/s]"
          ],
          "name": "stderr"
        },
        {
          "output_type": "stream",
          "text": [
            "======> epoch: 30/120, Loss:0.03227173537015915\n",
            "Entering Epoch:  31\n"
          ],
          "name": "stdout"
        },
        {
          "output_type": "stream",
          "text": [
            "100%|██████████| 1875/1875 [00:05<00:00, 329.94it/s]\n",
            "  2%|▏         | 37/1875 [00:00<00:05, 364.77it/s]"
          ],
          "name": "stderr"
        },
        {
          "output_type": "stream",
          "text": [
            "======> epoch: 31/120, Loss:0.03669975325465202\n",
            "Entering Epoch:  32\n"
          ],
          "name": "stdout"
        },
        {
          "output_type": "stream",
          "text": [
            "100%|██████████| 1875/1875 [00:05<00:00, 341.93it/s]\n",
            "  2%|▏         | 35/1875 [00:00<00:05, 346.05it/s]"
          ],
          "name": "stderr"
        },
        {
          "output_type": "stream",
          "text": [
            "======> epoch: 32/120, Loss:0.0335710346698761\n",
            "Entering Epoch:  33\n"
          ],
          "name": "stdout"
        },
        {
          "output_type": "stream",
          "text": [
            "100%|██████████| 1875/1875 [00:05<00:00, 336.80it/s]\n",
            "  2%|▏         | 37/1875 [00:00<00:05, 363.87it/s]"
          ],
          "name": "stderr"
        },
        {
          "output_type": "stream",
          "text": [
            "======> epoch: 33/120, Loss:0.030276509001851082\n",
            "Entering Epoch:  34\n"
          ],
          "name": "stdout"
        },
        {
          "output_type": "stream",
          "text": [
            "100%|██████████| 1875/1875 [00:05<00:00, 318.76it/s]\n",
            "  2%|▏         | 36/1875 [00:00<00:05, 354.89it/s]"
          ],
          "name": "stderr"
        },
        {
          "output_type": "stream",
          "text": [
            "======> epoch: 34/120, Loss:0.03181052580475807\n",
            "Entering Epoch:  35\n"
          ],
          "name": "stdout"
        },
        {
          "output_type": "stream",
          "text": [
            "100%|██████████| 1875/1875 [00:05<00:00, 352.80it/s]\n",
            "  2%|▏         | 37/1875 [00:00<00:05, 361.59it/s]"
          ],
          "name": "stderr"
        },
        {
          "output_type": "stream",
          "text": [
            "======> epoch: 35/120, Loss:0.029536910355091095\n",
            "Entering Epoch:  36\n"
          ],
          "name": "stdout"
        },
        {
          "output_type": "stream",
          "text": [
            "100%|██████████| 1875/1875 [00:05<00:00, 345.85it/s]\n",
            "  2%|▏         | 37/1875 [00:00<00:05, 364.95it/s]"
          ],
          "name": "stderr"
        },
        {
          "output_type": "stream",
          "text": [
            "======> epoch: 36/120, Loss:0.029347384348511696\n",
            "Entering Epoch:  37\n"
          ],
          "name": "stdout"
        },
        {
          "output_type": "stream",
          "text": [
            "100%|██████████| 1875/1875 [00:05<00:00, 338.78it/s]\n",
            "  2%|▏         | 35/1875 [00:00<00:05, 347.55it/s]"
          ],
          "name": "stderr"
        },
        {
          "output_type": "stream",
          "text": [
            "======> epoch: 37/120, Loss:0.03263954445719719\n",
            "Entering Epoch:  38\n"
          ],
          "name": "stdout"
        },
        {
          "output_type": "stream",
          "text": [
            "100%|██████████| 1875/1875 [00:05<00:00, 354.49it/s]\n",
            "  2%|▏         | 32/1875 [00:00<00:05, 311.97it/s]"
          ],
          "name": "stderr"
        },
        {
          "output_type": "stream",
          "text": [
            "======> epoch: 38/120, Loss:0.028006913140416145\n",
            "Entering Epoch:  39\n"
          ],
          "name": "stdout"
        },
        {
          "output_type": "stream",
          "text": [
            "100%|██████████| 1875/1875 [00:05<00:00, 318.23it/s]\n",
            "  2%|▏         | 36/1875 [00:00<00:05, 353.26it/s]"
          ],
          "name": "stderr"
        },
        {
          "output_type": "stream",
          "text": [
            "======> epoch: 39/120, Loss:0.02829766646027565\n",
            "Entering Epoch:  40\n"
          ],
          "name": "stdout"
        },
        {
          "output_type": "stream",
          "text": [
            "100%|██████████| 1875/1875 [00:05<00:00, 336.23it/s]\n",
            "  2%|▏         | 31/1875 [00:00<00:05, 309.13it/s]"
          ],
          "name": "stderr"
        },
        {
          "output_type": "stream",
          "text": [
            "======> epoch: 40/120, Loss:0.028504135087132454\n",
            "Entering Epoch:  41\n"
          ],
          "name": "stdout"
        },
        {
          "output_type": "stream",
          "text": [
            "100%|██████████| 1875/1875 [00:05<00:00, 336.08it/s]\n",
            "  1%|▏         | 27/1875 [00:00<00:06, 264.81it/s]"
          ],
          "name": "stderr"
        },
        {
          "output_type": "stream",
          "text": [
            "======> epoch: 41/120, Loss:0.02899296209216118\n",
            "Entering Epoch:  42\n"
          ],
          "name": "stdout"
        },
        {
          "output_type": "stream",
          "text": [
            "100%|██████████| 1875/1875 [00:05<00:00, 316.94it/s]\n",
            "  2%|▏         | 37/1875 [00:00<00:05, 363.04it/s]"
          ],
          "name": "stderr"
        },
        {
          "output_type": "stream",
          "text": [
            "======> epoch: 42/120, Loss:0.03022293746471405\n",
            "Entering Epoch:  43\n"
          ],
          "name": "stdout"
        },
        {
          "output_type": "stream",
          "text": [
            "100%|██████████| 1875/1875 [00:05<00:00, 340.56it/s]\n",
            "  1%|▏         | 26/1875 [00:00<00:07, 256.61it/s]"
          ],
          "name": "stderr"
        },
        {
          "output_type": "stream",
          "text": [
            "======> epoch: 43/120, Loss:0.03284802660346031\n",
            "Entering Epoch:  44\n"
          ],
          "name": "stdout"
        },
        {
          "output_type": "stream",
          "text": [
            "100%|██████████| 1875/1875 [00:05<00:00, 331.58it/s]\n",
            "  2%|▏         | 36/1875 [00:00<00:05, 358.67it/s]"
          ],
          "name": "stderr"
        },
        {
          "output_type": "stream",
          "text": [
            "======> epoch: 44/120, Loss:0.0272512286901474\n",
            "Entering Epoch:  45\n"
          ],
          "name": "stdout"
        },
        {
          "output_type": "stream",
          "text": [
            "100%|██████████| 1875/1875 [00:05<00:00, 349.76it/s]\n",
            "  2%|▏         | 37/1875 [00:00<00:05, 364.11it/s]"
          ],
          "name": "stderr"
        },
        {
          "output_type": "stream",
          "text": [
            "======> epoch: 45/120, Loss:0.02894889935851097\n",
            "Entering Epoch:  46\n"
          ],
          "name": "stdout"
        },
        {
          "output_type": "stream",
          "text": [
            "100%|██████████| 1875/1875 [00:05<00:00, 337.96it/s]\n",
            "  2%|▏         | 37/1875 [00:00<00:05, 366.13it/s]"
          ],
          "name": "stderr"
        },
        {
          "output_type": "stream",
          "text": [
            "======> epoch: 46/120, Loss:0.028696777299046516\n",
            "Entering Epoch:  47\n"
          ],
          "name": "stdout"
        },
        {
          "output_type": "stream",
          "text": [
            "100%|██████████| 1875/1875 [00:05<00:00, 332.35it/s]\n",
            "  2%|▏         | 30/1875 [00:00<00:06, 292.42it/s]"
          ],
          "name": "stderr"
        },
        {
          "output_type": "stream",
          "text": [
            "======> epoch: 47/120, Loss:0.03164760395884514\n",
            "Entering Epoch:  48\n"
          ],
          "name": "stdout"
        },
        {
          "output_type": "stream",
          "text": [
            "100%|██████████| 1875/1875 [00:05<00:00, 339.33it/s]\n",
            "  2%|▏         | 37/1875 [00:00<00:05, 362.75it/s]"
          ],
          "name": "stderr"
        },
        {
          "output_type": "stream",
          "text": [
            "======> epoch: 48/120, Loss:0.026582583785057068\n",
            "Entering Epoch:  49\n"
          ],
          "name": "stdout"
        },
        {
          "output_type": "stream",
          "text": [
            "100%|██████████| 1875/1875 [00:05<00:00, 349.12it/s]\n",
            "  2%|▏         | 37/1875 [00:00<00:05, 367.30it/s]"
          ],
          "name": "stderr"
        },
        {
          "output_type": "stream",
          "text": [
            "======> epoch: 49/120, Loss:0.029810667037963867\n",
            "Entering Epoch:  50\n"
          ],
          "name": "stdout"
        },
        {
          "output_type": "stream",
          "text": [
            "100%|██████████| 1875/1875 [00:05<00:00, 330.54it/s]\n",
            "  1%|▏         | 27/1875 [00:00<00:07, 261.71it/s]"
          ],
          "name": "stderr"
        },
        {
          "output_type": "stream",
          "text": [
            "======> epoch: 50/120, Loss:0.02746501751244068\n",
            "Entering Epoch:  51\n"
          ],
          "name": "stdout"
        },
        {
          "output_type": "stream",
          "text": [
            "100%|██████████| 1875/1875 [00:05<00:00, 330.76it/s]\n",
            "  1%|▏         | 28/1875 [00:00<00:06, 274.59it/s]"
          ],
          "name": "stderr"
        },
        {
          "output_type": "stream",
          "text": [
            "======> epoch: 51/120, Loss:0.027684008702635765\n",
            "Entering Epoch:  52\n"
          ],
          "name": "stdout"
        },
        {
          "output_type": "stream",
          "text": [
            "100%|██████████| 1875/1875 [00:05<00:00, 322.13it/s]\n",
            "  2%|▏         | 32/1875 [00:00<00:05, 317.48it/s]"
          ],
          "name": "stderr"
        },
        {
          "output_type": "stream",
          "text": [
            "======> epoch: 52/120, Loss:0.025401918217539787\n",
            "Entering Epoch:  53\n"
          ],
          "name": "stdout"
        },
        {
          "output_type": "stream",
          "text": [
            "100%|██████████| 1875/1875 [00:05<00:00, 345.01it/s]\n",
            "  2%|▏         | 37/1875 [00:00<00:05, 358.75it/s]"
          ],
          "name": "stderr"
        },
        {
          "output_type": "stream",
          "text": [
            "======> epoch: 53/120, Loss:0.02605774812400341\n",
            "Entering Epoch:  54\n"
          ],
          "name": "stdout"
        },
        {
          "output_type": "stream",
          "text": [
            "100%|██████████| 1875/1875 [00:05<00:00, 350.52it/s]\n",
            "  2%|▏         | 35/1875 [00:00<00:05, 345.04it/s]"
          ],
          "name": "stderr"
        },
        {
          "output_type": "stream",
          "text": [
            "======> epoch: 54/120, Loss:0.029562674462795258\n",
            "Entering Epoch:  55\n"
          ],
          "name": "stdout"
        },
        {
          "output_type": "stream",
          "text": [
            "100%|██████████| 1875/1875 [00:05<00:00, 313.88it/s]\n",
            "  1%|▏         | 28/1875 [00:00<00:06, 273.06it/s]"
          ],
          "name": "stderr"
        },
        {
          "output_type": "stream",
          "text": [
            "======> epoch: 55/120, Loss:0.027285253629088402\n",
            "Entering Epoch:  56\n"
          ],
          "name": "stdout"
        },
        {
          "output_type": "stream",
          "text": [
            "100%|██████████| 1875/1875 [00:05<00:00, 330.52it/s]\n",
            "  1%|▏         | 27/1875 [00:00<00:06, 269.89it/s]"
          ],
          "name": "stderr"
        },
        {
          "output_type": "stream",
          "text": [
            "======> epoch: 56/120, Loss:0.02567913569509983\n",
            "Entering Epoch:  57\n"
          ],
          "name": "stdout"
        },
        {
          "output_type": "stream",
          "text": [
            "100%|██████████| 1875/1875 [00:05<00:00, 317.37it/s]\n",
            "  1%|▏         | 28/1875 [00:00<00:06, 278.78it/s]"
          ],
          "name": "stderr"
        },
        {
          "output_type": "stream",
          "text": [
            "======> epoch: 57/120, Loss:0.024462701752781868\n",
            "Entering Epoch:  58\n"
          ],
          "name": "stdout"
        },
        {
          "output_type": "stream",
          "text": [
            "100%|██████████| 1875/1875 [00:05<00:00, 337.86it/s]\n",
            "  2%|▏         | 36/1875 [00:00<00:05, 357.86it/s]"
          ],
          "name": "stderr"
        },
        {
          "output_type": "stream",
          "text": [
            "======> epoch: 58/120, Loss:0.029282748699188232\n",
            "Entering Epoch:  59\n"
          ],
          "name": "stdout"
        },
        {
          "output_type": "stream",
          "text": [
            "100%|██████████| 1875/1875 [00:05<00:00, 332.07it/s]\n",
            "  2%|▏         | 34/1875 [00:00<00:05, 338.28it/s]"
          ],
          "name": "stderr"
        },
        {
          "output_type": "stream",
          "text": [
            "======> epoch: 59/120, Loss:0.024491777643561363\n",
            "Entering Epoch:  60\n"
          ],
          "name": "stdout"
        },
        {
          "output_type": "stream",
          "text": [
            "100%|██████████| 1875/1875 [00:05<00:00, 337.17it/s]\n",
            "  2%|▏         | 35/1875 [00:00<00:05, 346.02it/s]"
          ],
          "name": "stderr"
        },
        {
          "output_type": "stream",
          "text": [
            "======> epoch: 60/120, Loss:0.027185896411538124\n",
            "Entering Epoch:  61\n"
          ],
          "name": "stdout"
        },
        {
          "output_type": "stream",
          "text": [
            "100%|██████████| 1875/1875 [00:05<00:00, 320.82it/s]\n",
            "  1%|▏         | 27/1875 [00:00<00:06, 264.32it/s]"
          ],
          "name": "stderr"
        },
        {
          "output_type": "stream",
          "text": [
            "======> epoch: 61/120, Loss:0.024787655100226402\n",
            "Entering Epoch:  62\n"
          ],
          "name": "stdout"
        },
        {
          "output_type": "stream",
          "text": [
            "100%|██████████| 1875/1875 [00:05<00:00, 331.55it/s]\n",
            "  2%|▏         | 34/1875 [00:00<00:05, 334.93it/s]"
          ],
          "name": "stderr"
        },
        {
          "output_type": "stream",
          "text": [
            "======> epoch: 62/120, Loss:0.026560569182038307\n",
            "Entering Epoch:  63\n"
          ],
          "name": "stdout"
        },
        {
          "output_type": "stream",
          "text": [
            "100%|██████████| 1875/1875 [00:05<00:00, 355.68it/s]\n",
            "  2%|▏         | 29/1875 [00:00<00:06, 284.15it/s]"
          ],
          "name": "stderr"
        },
        {
          "output_type": "stream",
          "text": [
            "======> epoch: 63/120, Loss:0.02646181546151638\n",
            "Entering Epoch:  64\n"
          ],
          "name": "stdout"
        },
        {
          "output_type": "stream",
          "text": [
            "100%|██████████| 1875/1875 [00:05<00:00, 337.47it/s]\n",
            "  2%|▏         | 36/1875 [00:00<00:05, 350.38it/s]"
          ],
          "name": "stderr"
        },
        {
          "output_type": "stream",
          "text": [
            "======> epoch: 64/120, Loss:0.025200601667165756\n",
            "Entering Epoch:  65\n"
          ],
          "name": "stdout"
        },
        {
          "output_type": "stream",
          "text": [
            "100%|██████████| 1875/1875 [00:05<00:00, 325.62it/s]\n",
            "  2%|▏         | 36/1875 [00:00<00:05, 358.89it/s]"
          ],
          "name": "stderr"
        },
        {
          "output_type": "stream",
          "text": [
            "======> epoch: 65/120, Loss:0.025139261037111282\n",
            "Entering Epoch:  66\n"
          ],
          "name": "stdout"
        },
        {
          "output_type": "stream",
          "text": [
            "100%|██████████| 1875/1875 [00:05<00:00, 340.31it/s]\n",
            "  2%|▏         | 36/1875 [00:00<00:05, 357.66it/s]"
          ],
          "name": "stderr"
        },
        {
          "output_type": "stream",
          "text": [
            "======> epoch: 66/120, Loss:0.026964303106069565\n",
            "Entering Epoch:  67\n"
          ],
          "name": "stdout"
        },
        {
          "output_type": "stream",
          "text": [
            "100%|██████████| 1875/1875 [00:05<00:00, 353.89it/s]\n",
            "  2%|▏         | 31/1875 [00:00<00:06, 301.14it/s]"
          ],
          "name": "stderr"
        },
        {
          "output_type": "stream",
          "text": [
            "======> epoch: 67/120, Loss:0.02240719087421894\n",
            "Entering Epoch:  68\n"
          ],
          "name": "stdout"
        },
        {
          "output_type": "stream",
          "text": [
            "100%|██████████| 1875/1875 [00:05<00:00, 328.31it/s]\n",
            "  1%|▏         | 27/1875 [00:00<00:07, 263.93it/s]"
          ],
          "name": "stderr"
        },
        {
          "output_type": "stream",
          "text": [
            "======> epoch: 68/120, Loss:0.030164413154125214\n",
            "Entering Epoch:  69\n"
          ],
          "name": "stdout"
        },
        {
          "output_type": "stream",
          "text": [
            "100%|██████████| 1875/1875 [00:05<00:00, 344.39it/s]\n",
            "  2%|▏         | 35/1875 [00:00<00:05, 345.16it/s]"
          ],
          "name": "stderr"
        },
        {
          "output_type": "stream",
          "text": [
            "======> epoch: 69/120, Loss:0.025788888335227966\n",
            "Entering Epoch:  70\n"
          ],
          "name": "stdout"
        },
        {
          "output_type": "stream",
          "text": [
            "100%|██████████| 1875/1875 [00:05<00:00, 329.95it/s]\n",
            "  2%|▏         | 36/1875 [00:00<00:05, 351.60it/s]"
          ],
          "name": "stderr"
        },
        {
          "output_type": "stream",
          "text": [
            "======> epoch: 70/120, Loss:0.0256733987480402\n",
            "Entering Epoch:  71\n"
          ],
          "name": "stdout"
        },
        {
          "output_type": "stream",
          "text": [
            "100%|██████████| 1875/1875 [00:05<00:00, 337.41it/s]\n",
            "  1%|▏         | 27/1875 [00:00<00:07, 263.23it/s]"
          ],
          "name": "stderr"
        },
        {
          "output_type": "stream",
          "text": [
            "======> epoch: 71/120, Loss:0.028872579336166382\n",
            "Entering Epoch:  72\n"
          ],
          "name": "stdout"
        },
        {
          "output_type": "stream",
          "text": [
            "100%|██████████| 1875/1875 [00:06<00:00, 290.34it/s]\n",
            "  2%|▏         | 33/1875 [00:00<00:05, 327.69it/s]"
          ],
          "name": "stderr"
        },
        {
          "output_type": "stream",
          "text": [
            "======> epoch: 72/120, Loss:0.02261229418218136\n",
            "Entering Epoch:  73\n"
          ],
          "name": "stdout"
        },
        {
          "output_type": "stream",
          "text": [
            "100%|██████████| 1875/1875 [00:05<00:00, 343.37it/s]\n",
            "  2%|▏         | 33/1875 [00:00<00:05, 328.73it/s]"
          ],
          "name": "stderr"
        },
        {
          "output_type": "stream",
          "text": [
            "======> epoch: 73/120, Loss:0.024544382467865944\n",
            "Entering Epoch:  74\n"
          ],
          "name": "stdout"
        },
        {
          "output_type": "stream",
          "text": [
            "100%|██████████| 1875/1875 [00:05<00:00, 345.67it/s]\n",
            "  1%|▏         | 28/1875 [00:00<00:06, 272.12it/s]"
          ],
          "name": "stderr"
        },
        {
          "output_type": "stream",
          "text": [
            "======> epoch: 74/120, Loss:0.02334005944430828\n",
            "Entering Epoch:  75\n"
          ],
          "name": "stdout"
        },
        {
          "output_type": "stream",
          "text": [
            "100%|██████████| 1875/1875 [00:05<00:00, 333.83it/s]\n",
            "  1%|▏         | 28/1875 [00:00<00:06, 277.97it/s]"
          ],
          "name": "stderr"
        },
        {
          "output_type": "stream",
          "text": [
            "======> epoch: 75/120, Loss:0.02827257476747036\n",
            "Entering Epoch:  76\n"
          ],
          "name": "stdout"
        },
        {
          "output_type": "stream",
          "text": [
            "100%|██████████| 1875/1875 [00:05<00:00, 333.88it/s]\n",
            "  2%|▏         | 34/1875 [00:00<00:05, 338.31it/s]"
          ],
          "name": "stderr"
        },
        {
          "output_type": "stream",
          "text": [
            "======> epoch: 76/120, Loss:0.023902181535959244\n",
            "Entering Epoch:  77\n"
          ],
          "name": "stdout"
        },
        {
          "output_type": "stream",
          "text": [
            "100%|██████████| 1875/1875 [00:05<00:00, 350.79it/s]\n",
            "  1%|▏         | 27/1875 [00:00<00:07, 258.53it/s]"
          ],
          "name": "stderr"
        },
        {
          "output_type": "stream",
          "text": [
            "======> epoch: 77/120, Loss:0.024606650695204735\n",
            "Entering Epoch:  78\n"
          ],
          "name": "stdout"
        },
        {
          "output_type": "stream",
          "text": [
            "100%|██████████| 1875/1875 [00:06<00:00, 292.18it/s]\n",
            "  1%|▏         | 27/1875 [00:00<00:06, 269.89it/s]"
          ],
          "name": "stderr"
        },
        {
          "output_type": "stream",
          "text": [
            "======> epoch: 78/120, Loss:0.02232174389064312\n",
            "Entering Epoch:  79\n"
          ],
          "name": "stdout"
        },
        {
          "output_type": "stream",
          "text": [
            "100%|██████████| 1875/1875 [00:05<00:00, 316.76it/s]\n",
            "  2%|▏         | 34/1875 [00:00<00:05, 338.54it/s]"
          ],
          "name": "stderr"
        },
        {
          "output_type": "stream",
          "text": [
            "======> epoch: 79/120, Loss:0.025496643036603928\n",
            "Entering Epoch:  80\n"
          ],
          "name": "stdout"
        },
        {
          "output_type": "stream",
          "text": [
            "100%|██████████| 1875/1875 [00:05<00:00, 332.26it/s]\n",
            "  2%|▏         | 37/1875 [00:00<00:05, 363.75it/s]"
          ],
          "name": "stderr"
        },
        {
          "output_type": "stream",
          "text": [
            "======> epoch: 80/120, Loss:0.02586689032614231\n",
            "Entering Epoch:  81\n"
          ],
          "name": "stdout"
        },
        {
          "output_type": "stream",
          "text": [
            "100%|██████████| 1875/1875 [00:05<00:00, 321.66it/s]\n",
            "  2%|▏         | 34/1875 [00:00<00:05, 338.58it/s]"
          ],
          "name": "stderr"
        },
        {
          "output_type": "stream",
          "text": [
            "======> epoch: 81/120, Loss:0.024019408971071243\n",
            "Entering Epoch:  82\n"
          ],
          "name": "stdout"
        },
        {
          "output_type": "stream",
          "text": [
            "100%|██████████| 1875/1875 [00:05<00:00, 325.28it/s]\n",
            "  1%|▏         | 27/1875 [00:00<00:06, 268.20it/s]"
          ],
          "name": "stderr"
        },
        {
          "output_type": "stream",
          "text": [
            "======> epoch: 82/120, Loss:0.025079449638724327\n",
            "Entering Epoch:  83\n"
          ],
          "name": "stdout"
        },
        {
          "output_type": "stream",
          "text": [
            "100%|██████████| 1875/1875 [00:05<00:00, 323.82it/s]\n",
            "  2%|▏         | 37/1875 [00:00<00:05, 361.47it/s]"
          ],
          "name": "stderr"
        },
        {
          "output_type": "stream",
          "text": [
            "======> epoch: 83/120, Loss:0.02533227950334549\n",
            "Entering Epoch:  84\n"
          ],
          "name": "stdout"
        },
        {
          "output_type": "stream",
          "text": [
            "100%|██████████| 1875/1875 [00:06<00:00, 302.97it/s]\n",
            "  1%|▏         | 26/1875 [00:00<00:07, 255.60it/s]"
          ],
          "name": "stderr"
        },
        {
          "output_type": "stream",
          "text": [
            "======> epoch: 84/120, Loss:0.0228948462754488\n",
            "Entering Epoch:  85\n"
          ],
          "name": "stdout"
        },
        {
          "output_type": "stream",
          "text": [
            "100%|██████████| 1875/1875 [00:05<00:00, 341.68it/s]\n",
            "  2%|▏         | 36/1875 [00:00<00:05, 350.27it/s]"
          ],
          "name": "stderr"
        },
        {
          "output_type": "stream",
          "text": [
            "======> epoch: 85/120, Loss:0.029081646353006363\n",
            "Entering Epoch:  86\n"
          ],
          "name": "stdout"
        },
        {
          "output_type": "stream",
          "text": [
            "100%|██████████| 1875/1875 [00:05<00:00, 323.27it/s]\n",
            "  2%|▏         | 36/1875 [00:00<00:05, 351.65it/s]"
          ],
          "name": "stderr"
        },
        {
          "output_type": "stream",
          "text": [
            "======> epoch: 86/120, Loss:0.025683533400297165\n",
            "Entering Epoch:  87\n"
          ],
          "name": "stdout"
        },
        {
          "output_type": "stream",
          "text": [
            "100%|██████████| 1875/1875 [00:05<00:00, 326.85it/s]\n",
            "  2%|▏         | 37/1875 [00:00<00:05, 365.56it/s]"
          ],
          "name": "stderr"
        },
        {
          "output_type": "stream",
          "text": [
            "======> epoch: 87/120, Loss:0.027088895440101624\n",
            "Entering Epoch:  88\n"
          ],
          "name": "stdout"
        },
        {
          "output_type": "stream",
          "text": [
            "100%|██████████| 1875/1875 [00:05<00:00, 352.54it/s]\n",
            "  2%|▏         | 36/1875 [00:00<00:05, 358.49it/s]"
          ],
          "name": "stderr"
        },
        {
          "output_type": "stream",
          "text": [
            "======> epoch: 88/120, Loss:0.025203624740242958\n",
            "Entering Epoch:  89\n"
          ],
          "name": "stdout"
        },
        {
          "output_type": "stream",
          "text": [
            "100%|██████████| 1875/1875 [00:05<00:00, 356.19it/s]\n",
            "  1%|▏         | 28/1875 [00:00<00:06, 273.32it/s]"
          ],
          "name": "stderr"
        },
        {
          "output_type": "stream",
          "text": [
            "======> epoch: 89/120, Loss:0.0259280763566494\n",
            "Entering Epoch:  90\n"
          ],
          "name": "stdout"
        },
        {
          "output_type": "stream",
          "text": [
            "100%|██████████| 1875/1875 [00:05<00:00, 323.92it/s]\n",
            "  2%|▏         | 37/1875 [00:00<00:05, 363.17it/s]"
          ],
          "name": "stderr"
        },
        {
          "output_type": "stream",
          "text": [
            "======> epoch: 90/120, Loss:0.0260948296636343\n",
            "Entering Epoch:  91\n"
          ],
          "name": "stdout"
        },
        {
          "output_type": "stream",
          "text": [
            "100%|██████████| 1875/1875 [00:05<00:00, 339.81it/s]\n",
            "  2%|▏         | 33/1875 [00:00<00:05, 324.95it/s]"
          ],
          "name": "stderr"
        },
        {
          "output_type": "stream",
          "text": [
            "======> epoch: 91/120, Loss:0.023835988715291023\n",
            "Entering Epoch:  92\n"
          ],
          "name": "stdout"
        },
        {
          "output_type": "stream",
          "text": [
            "100%|██████████| 1875/1875 [00:05<00:00, 317.85it/s]\n",
            "  2%|▏         | 29/1875 [00:00<00:06, 283.03it/s]"
          ],
          "name": "stderr"
        },
        {
          "output_type": "stream",
          "text": [
            "======> epoch: 92/120, Loss:0.024441849440336227\n",
            "Entering Epoch:  93\n"
          ],
          "name": "stdout"
        },
        {
          "output_type": "stream",
          "text": [
            "100%|██████████| 1875/1875 [00:05<00:00, 348.02it/s]\n",
            "  2%|▏         | 35/1875 [00:00<00:05, 348.38it/s]"
          ],
          "name": "stderr"
        },
        {
          "output_type": "stream",
          "text": [
            "======> epoch: 93/120, Loss:0.021829672157764435\n",
            "Entering Epoch:  94\n"
          ],
          "name": "stdout"
        },
        {
          "output_type": "stream",
          "text": [
            "100%|██████████| 1875/1875 [00:05<00:00, 340.34it/s]\n",
            "  1%|▏         | 26/1875 [00:00<00:07, 254.80it/s]"
          ],
          "name": "stderr"
        },
        {
          "output_type": "stream",
          "text": [
            "======> epoch: 94/120, Loss:0.024807026609778404\n",
            "Entering Epoch:  95\n"
          ],
          "name": "stdout"
        },
        {
          "output_type": "stream",
          "text": [
            "100%|██████████| 1875/1875 [00:05<00:00, 325.81it/s]\n",
            "  2%|▏         | 35/1875 [00:00<00:05, 343.28it/s]"
          ],
          "name": "stderr"
        },
        {
          "output_type": "stream",
          "text": [
            "======> epoch: 95/120, Loss:0.023963864892721176\n",
            "Entering Epoch:  96\n"
          ],
          "name": "stdout"
        },
        {
          "output_type": "stream",
          "text": [
            "100%|██████████| 1875/1875 [00:05<00:00, 356.88it/s]\n",
            "  2%|▏         | 35/1875 [00:00<00:05, 345.18it/s]"
          ],
          "name": "stderr"
        },
        {
          "output_type": "stream",
          "text": [
            "======> epoch: 96/120, Loss:0.020975759252905846\n",
            "Entering Epoch:  97\n"
          ],
          "name": "stdout"
        },
        {
          "output_type": "stream",
          "text": [
            "100%|██████████| 1875/1875 [00:05<00:00, 343.19it/s]\n",
            "  2%|▏         | 32/1875 [00:00<00:05, 314.23it/s]"
          ],
          "name": "stderr"
        },
        {
          "output_type": "stream",
          "text": [
            "======> epoch: 97/120, Loss:0.023734629154205322\n",
            "Entering Epoch:  98\n"
          ],
          "name": "stdout"
        },
        {
          "output_type": "stream",
          "text": [
            "100%|██████████| 1875/1875 [00:05<00:00, 346.83it/s]\n",
            "  2%|▏         | 34/1875 [00:00<00:05, 336.51it/s]"
          ],
          "name": "stderr"
        },
        {
          "output_type": "stream",
          "text": [
            "======> epoch: 98/120, Loss:0.023058487102389336\n",
            "Entering Epoch:  99\n"
          ],
          "name": "stdout"
        },
        {
          "output_type": "stream",
          "text": [
            "100%|██████████| 1875/1875 [00:05<00:00, 352.78it/s]\n",
            "  1%|▏         | 25/1875 [00:00<00:07, 248.59it/s]"
          ],
          "name": "stderr"
        },
        {
          "output_type": "stream",
          "text": [
            "======> epoch: 99/120, Loss:0.02314283326268196\n",
            "Entering Epoch:  100\n"
          ],
          "name": "stdout"
        },
        {
          "output_type": "stream",
          "text": [
            "100%|██████████| 1875/1875 [00:05<00:00, 336.40it/s]\n",
            "  2%|▏         | 35/1875 [00:00<00:05, 346.02it/s]"
          ],
          "name": "stderr"
        },
        {
          "output_type": "stream",
          "text": [
            "======> epoch: 100/120, Loss:0.025776298716664314\n",
            "Entering Epoch:  101\n"
          ],
          "name": "stdout"
        },
        {
          "output_type": "stream",
          "text": [
            "100%|██████████| 1875/1875 [00:05<00:00, 339.64it/s]\n",
            "  1%|▏         | 28/1875 [00:00<00:06, 271.05it/s]"
          ],
          "name": "stderr"
        },
        {
          "output_type": "stream",
          "text": [
            "======> epoch: 101/120, Loss:0.02170603536069393\n",
            "Entering Epoch:  102\n"
          ],
          "name": "stdout"
        },
        {
          "output_type": "stream",
          "text": [
            "100%|██████████| 1875/1875 [00:06<00:00, 301.82it/s]\n",
            "  1%|▏         | 26/1875 [00:00<00:07, 259.34it/s]"
          ],
          "name": "stderr"
        },
        {
          "output_type": "stream",
          "text": [
            "======> epoch: 102/120, Loss:0.02224644273519516\n",
            "Entering Epoch:  103\n"
          ],
          "name": "stdout"
        },
        {
          "output_type": "stream",
          "text": [
            "100%|██████████| 1875/1875 [00:05<00:00, 345.20it/s]\n",
            "  2%|▏         | 34/1875 [00:00<00:05, 330.14it/s]"
          ],
          "name": "stderr"
        },
        {
          "output_type": "stream",
          "text": [
            "======> epoch: 103/120, Loss:0.02155289053916931\n",
            "Entering Epoch:  104\n"
          ],
          "name": "stdout"
        },
        {
          "output_type": "stream",
          "text": [
            "100%|██████████| 1875/1875 [00:05<00:00, 320.43it/s]\n",
            "  1%|▏         | 28/1875 [00:00<00:06, 275.17it/s]"
          ],
          "name": "stderr"
        },
        {
          "output_type": "stream",
          "text": [
            "======> epoch: 104/120, Loss:0.023309677839279175\n",
            "Entering Epoch:  105\n"
          ],
          "name": "stdout"
        },
        {
          "output_type": "stream",
          "text": [
            "100%|██████████| 1875/1875 [00:06<00:00, 299.96it/s]\n",
            "  2%|▏         | 35/1875 [00:00<00:05, 343.17it/s]"
          ],
          "name": "stderr"
        },
        {
          "output_type": "stream",
          "text": [
            "======> epoch: 105/120, Loss:0.022444218397140503\n",
            "Entering Epoch:  106\n"
          ],
          "name": "stdout"
        },
        {
          "output_type": "stream",
          "text": [
            "100%|██████████| 1875/1875 [00:05<00:00, 321.17it/s]\n",
            "  2%|▏         | 37/1875 [00:00<00:05, 364.41it/s]"
          ],
          "name": "stderr"
        },
        {
          "output_type": "stream",
          "text": [
            "======> epoch: 106/120, Loss:0.019233720377087593\n",
            "Entering Epoch:  107\n"
          ],
          "name": "stdout"
        },
        {
          "output_type": "stream",
          "text": [
            "100%|██████████| 1875/1875 [00:05<00:00, 353.33it/s]\n",
            "  2%|▏         | 37/1875 [00:00<00:05, 366.52it/s]"
          ],
          "name": "stderr"
        },
        {
          "output_type": "stream",
          "text": [
            "======> epoch: 107/120, Loss:0.022710483521223068\n",
            "Entering Epoch:  108\n"
          ],
          "name": "stdout"
        },
        {
          "output_type": "stream",
          "text": [
            "100%|██████████| 1875/1875 [00:05<00:00, 340.48it/s]\n",
            "  1%|▏         | 28/1875 [00:00<00:06, 277.05it/s]"
          ],
          "name": "stderr"
        },
        {
          "output_type": "stream",
          "text": [
            "======> epoch: 108/120, Loss:0.020239297300577164\n",
            "Entering Epoch:  109\n"
          ],
          "name": "stdout"
        },
        {
          "output_type": "stream",
          "text": [
            "100%|██████████| 1875/1875 [00:05<00:00, 352.93it/s]\n",
            "  2%|▏         | 37/1875 [00:00<00:05, 360.79it/s]"
          ],
          "name": "stderr"
        },
        {
          "output_type": "stream",
          "text": [
            "======> epoch: 109/120, Loss:0.02317073382437229\n",
            "Entering Epoch:  110\n"
          ],
          "name": "stdout"
        },
        {
          "output_type": "stream",
          "text": [
            "100%|██████████| 1875/1875 [00:05<00:00, 362.31it/s]\n",
            "  2%|▏         | 33/1875 [00:00<00:05, 324.54it/s]"
          ],
          "name": "stderr"
        },
        {
          "output_type": "stream",
          "text": [
            "======> epoch: 110/120, Loss:0.026418412104249\n",
            "Entering Epoch:  111\n"
          ],
          "name": "stdout"
        },
        {
          "output_type": "stream",
          "text": [
            "100%|██████████| 1875/1875 [00:06<00:00, 309.55it/s]\n",
            "  2%|▏         | 36/1875 [00:00<00:05, 357.17it/s]"
          ],
          "name": "stderr"
        },
        {
          "output_type": "stream",
          "text": [
            "======> epoch: 111/120, Loss:0.021989958360791206\n",
            "Entering Epoch:  112\n"
          ],
          "name": "stdout"
        },
        {
          "output_type": "stream",
          "text": [
            "100%|██████████| 1875/1875 [00:05<00:00, 340.21it/s]\n",
            "  2%|▏         | 35/1875 [00:00<00:05, 345.25it/s]"
          ],
          "name": "stderr"
        },
        {
          "output_type": "stream",
          "text": [
            "======> epoch: 112/120, Loss:0.02410968206822872\n",
            "Entering Epoch:  113\n"
          ],
          "name": "stdout"
        },
        {
          "output_type": "stream",
          "text": [
            "100%|██████████| 1875/1875 [00:05<00:00, 343.91it/s]\n",
            "  1%|▏         | 27/1875 [00:00<00:06, 265.63it/s]"
          ],
          "name": "stderr"
        },
        {
          "output_type": "stream",
          "text": [
            "======> epoch: 113/120, Loss:0.022107182070612907\n",
            "Entering Epoch:  114\n"
          ],
          "name": "stdout"
        },
        {
          "output_type": "stream",
          "text": [
            "100%|██████████| 1875/1875 [00:05<00:00, 333.21it/s]\n",
            "  1%|▏         | 26/1875 [00:00<00:07, 254.60it/s]"
          ],
          "name": "stderr"
        },
        {
          "output_type": "stream",
          "text": [
            "======> epoch: 114/120, Loss:0.02031022310256958\n",
            "Entering Epoch:  115\n"
          ],
          "name": "stdout"
        },
        {
          "output_type": "stream",
          "text": [
            "100%|██████████| 1875/1875 [00:06<00:00, 297.39it/s]\n",
            "  1%|▏         | 27/1875 [00:00<00:06, 266.60it/s]"
          ],
          "name": "stderr"
        },
        {
          "output_type": "stream",
          "text": [
            "======> epoch: 115/120, Loss:0.02559761144220829\n",
            "Entering Epoch:  116\n"
          ],
          "name": "stdout"
        },
        {
          "output_type": "stream",
          "text": [
            "100%|██████████| 1875/1875 [00:05<00:00, 341.51it/s]\n",
            "  2%|▏         | 37/1875 [00:00<00:05, 365.00it/s]"
          ],
          "name": "stderr"
        },
        {
          "output_type": "stream",
          "text": [
            "======> epoch: 116/120, Loss:0.02082092873752117\n",
            "Entering Epoch:  117\n"
          ],
          "name": "stdout"
        },
        {
          "output_type": "stream",
          "text": [
            "100%|██████████| 1875/1875 [00:05<00:00, 364.12it/s]\n",
            "  2%|▏         | 30/1875 [00:00<00:06, 290.04it/s]"
          ],
          "name": "stderr"
        },
        {
          "output_type": "stream",
          "text": [
            "======> epoch: 117/120, Loss:0.021292634308338165\n",
            "Entering Epoch:  118\n"
          ],
          "name": "stdout"
        },
        {
          "output_type": "stream",
          "text": [
            "100%|██████████| 1875/1875 [00:05<00:00, 321.21it/s]\n",
            "  1%|▏         | 28/1875 [00:00<00:06, 277.27it/s]"
          ],
          "name": "stderr"
        },
        {
          "output_type": "stream",
          "text": [
            "======> epoch: 118/120, Loss:0.02101954072713852\n",
            "Entering Epoch:  119\n"
          ],
          "name": "stdout"
        },
        {
          "output_type": "stream",
          "text": [
            "100%|██████████| 1875/1875 [00:05<00:00, 329.42it/s]"
          ],
          "name": "stderr"
        },
        {
          "output_type": "stream",
          "text": [
            "======> epoch: 119/120, Loss:0.023454952985048294\n"
          ],
          "name": "stdout"
        },
        {
          "output_type": "stream",
          "text": [
            "\n"
          ],
          "name": "stderr"
        }
      ]
    },
    {
      "cell_type": "code",
      "metadata": {
        "id": "rbIPu-Qli1U3",
        "colab_type": "code",
        "colab": {
          "base_uri": "https://localhost:8080/",
          "height": 1000
        },
        "outputId": "86504c7f-bea8-4379-f4bc-159f5582fdff"
      },
      "source": [
        "f,axes= plt.subplots(6,3,figsize=(20,20))\n",
        "axes[0,0].set_title(\"Original Image\")\n",
        "axes[0,1].set_title(\"Dirty Image\")\n",
        "axes[0,2].set_title(\"Cleaned Image\")\n",
        "\n",
        "test_imgs=np.random.randint(0,10000,size=6)\n",
        "for idx in range((6)):\n",
        "  dirty=testset[test_imgs[idx]][0]\n",
        "  clean=testset[test_imgs[idx]][1]\n",
        "  label=testset[test_imgs[idx]][2]\n",
        "  dirty=dirty.view(dirty.size(0),-1).type(torch.FloatTensor)\n",
        "  dirty=dirty.to(device)\n",
        "  output=model(dirty)\n",
        "  \n",
        "  output=output.view(1,28,28)\n",
        "  output=output.permute(1,2,0).squeeze(2)\n",
        "  output=output.detach().cpu().numpy()\n",
        "  \n",
        "  dirty=dirty.view(1,28,28)\n",
        "  dirty=dirty.permute(1,2,0).squeeze(2)\n",
        "  dirty=dirty.detach().cpu().numpy()\n",
        "  \n",
        "  clean=clean.permute(1,2,0).squeeze(2)\n",
        "  clean=clean.detach().cpu().numpy()\n",
        "  \n",
        "  axes[idx,0].imshow(clean,cmap=\"gray\")\n",
        "  axes[idx,1].imshow(dirty,cmap=\"gray\")\n",
        "  axes[idx,2].imshow(output,cmap=\"gray\")"
      ],
      "execution_count": 11,
      "outputs": [
        {
          "output_type": "display_data",
          "data": {
            "image/png": "[encoded data removed]",
            "text/plain": [
              "<Figure size 1440x1440 with 18 Axes>"
            ]
          },
          "metadata": {
            "tags": [],
            "needs_background": "light"
          }
        }
      ]
    }
  ]
}